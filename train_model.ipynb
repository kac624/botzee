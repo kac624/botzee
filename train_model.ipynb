{
 "cells": [
  {
   "cell_type": "code",
   "execution_count": 1,
   "metadata": {},
   "outputs": [],
   "source": [
    "# basics\n",
    "import pandas as pd\n",
    "import numpy as np\n",
    "import time\n",
    "\n",
    "# torch\n",
    "import torch\n",
    "import torch.nn as nn\n",
    "import torch.nn.functional as F\n",
    "from torch.utils.data import Dataset, DataLoader\n",
    "import torch_directml\n",
    "\n",
    "# testing\n",
    "from functions import simulate_game, pick_dice, pick_score\n",
    "from classes import ScoreSheet, TurnData"
   ]
  },
  {
   "cell_type": "code",
   "execution_count": 2,
   "metadata": {},
   "outputs": [],
   "source": [
    "gpu = torch_directml.device()"
   ]
  },
  {
   "cell_type": "code",
   "execution_count": 3,
   "metadata": {},
   "outputs": [],
   "source": [
    "use_gpu = False"
   ]
  },
  {
   "cell_type": "markdown",
   "metadata": {},
   "source": [
    "## Data Prep"
   ]
  },
  {
   "cell_type": "code",
   "execution_count": 4,
   "metadata": {},
   "outputs": [],
   "source": [
    "training_df = pd.read_csv('data/training_df.csv')"
   ]
  },
  {
   "cell_type": "code",
   "execution_count": 5,
   "metadata": {},
   "outputs": [
    {
     "data": {
      "text/plain": [
       "Index(['game', 'turn', 'pre_total_score', 'chosen_score_type', 'turn_score',\n",
       "       'post_total_score', 'chance_score', 'ones_score', 'twos_score',\n",
       "       'threes_score', 'fours_score', 'fives_score', 'sixes_score',\n",
       "       'three_kind_score', 'four_kind_score', 'full_house_score',\n",
       "       'small_straight_score', 'large_straight_score', 'yahtzee_score',\n",
       "       'chance_potential', 'ones_potential', 'twos_potential',\n",
       "       'threes_potential', 'fours_potential', 'fives_potential',\n",
       "       'sixes_potential', 'three_kind_potential', 'four_kind_potential',\n",
       "       'full_house_potential', 'small_straight_potential',\n",
       "       'large_straight_potential', 'yahtzee_potential', 'hand_1_dice_1',\n",
       "       'hand_1_dice_2', 'hand_1_dice_3', 'hand_1_dice_4', 'hand_1_dice_5',\n",
       "       'picks_1_dice_1', 'picks_1_dice_2', 'picks_1_dice_3', 'picks_1_dice_4',\n",
       "       'picks_1_dice_5', 'hand_2_dice_1', 'hand_2_dice_2', 'hand_2_dice_3',\n",
       "       'hand_2_dice_4', 'hand_2_dice_5', 'picks_2_dice_1', 'picks_2_dice_2',\n",
       "       'picks_2_dice_3', 'picks_2_dice_4', 'picks_2_dice_5', 'hand_3_dice_1',\n",
       "       'hand_3_dice_2', 'hand_3_dice_3', 'hand_3_dice_4', 'hand_3_dice_5'],\n",
       "      dtype='object')"
      ]
     },
     "execution_count": 5,
     "metadata": {},
     "output_type": "execute_result"
    }
   ],
   "source": [
    "training_df.columns"
   ]
  },
  {
   "cell_type": "code",
   "execution_count": 6,
   "metadata": {},
   "outputs": [],
   "source": [
    "X_cols = [\n",
    "    x for x in training_df.columns if\n",
    "    x != 'chosen_score_type' and\n",
    "    x != 'turn_score' and\n",
    "    x != 'post_total_score'\n",
    "]\n",
    "\n",
    "y1_cols = [x for x in training_df.columns if 'picks_1' in x]\n",
    "y2_cols = [x for x in training_df.columns if 'picks_2' in x]\n",
    "y3_cols = [x for x in training_df.columns if x == 'chosen_score_type']\n",
    "\n",
    "X = training_df[[x for x in X_cols if '_potential' not in x] + [x for x in X_cols if '_potential' in x]]\n",
    "X = X.fillna(-1)\n",
    "\n",
    "y1 = training_df[y1_cols]\n",
    "y2 = training_df[y2_cols]\n",
    "y3 = pd.get_dummies(training_df[y3_cols]).astype(int)"
   ]
  },
  {
   "cell_type": "code",
   "execution_count": 7,
   "metadata": {},
   "outputs": [
    {
     "data": {
      "text/plain": [
       "Index(['game', 'turn', 'pre_total_score', 'chance_score', 'ones_score',\n",
       "       'twos_score', 'threes_score', 'fours_score', 'fives_score',\n",
       "       'sixes_score', 'three_kind_score', 'four_kind_score',\n",
       "       'full_house_score', 'small_straight_score', 'large_straight_score',\n",
       "       'yahtzee_score', 'hand_1_dice_1', 'hand_1_dice_2', 'hand_1_dice_3',\n",
       "       'hand_1_dice_4', 'hand_1_dice_5', 'picks_1_dice_1', 'picks_1_dice_2',\n",
       "       'picks_1_dice_3', 'picks_1_dice_4', 'picks_1_dice_5', 'hand_2_dice_1',\n",
       "       'hand_2_dice_2', 'hand_2_dice_3', 'hand_2_dice_4', 'hand_2_dice_5',\n",
       "       'picks_2_dice_1', 'picks_2_dice_2', 'picks_2_dice_3', 'picks_2_dice_4',\n",
       "       'picks_2_dice_5', 'hand_3_dice_1', 'hand_3_dice_2', 'hand_3_dice_3',\n",
       "       'hand_3_dice_4', 'hand_3_dice_5', 'chance_potential', 'ones_potential',\n",
       "       'twos_potential', 'threes_potential', 'fours_potential',\n",
       "       'fives_potential', 'sixes_potential', 'three_kind_potential',\n",
       "       'four_kind_potential', 'full_house_potential',\n",
       "       'small_straight_potential', 'large_straight_potential',\n",
       "       'yahtzee_potential'],\n",
       "      dtype='object')"
      ]
     },
     "execution_count": 7,
     "metadata": {},
     "output_type": "execute_result"
    }
   ],
   "source": [
    "X.columns"
   ]
  },
  {
   "cell_type": "code",
   "execution_count": 8,
   "metadata": {},
   "outputs": [],
   "source": [
    "indices_branch1 = [x for x in range(21)]\n",
    "indices_branch2 = [x for x in range(31)]\n",
    "total_features = X.shape[1]\n",
    "\n",
    "mask1 = torch.zeros(total_features, dtype=torch.bool)\n",
    "mask1[indices_branch1] = True\n",
    "\n",
    "mask2 = torch.zeros(total_features, dtype=torch.bool)\n",
    "mask2[indices_branch2] = True\n",
    "\n",
    "masks = [mask1, mask2]"
   ]
  },
  {
   "cell_type": "markdown",
   "metadata": {},
   "source": [
    "## Model Class"
   ]
  },
  {
   "cell_type": "code",
   "execution_count": 9,
   "metadata": {},
   "outputs": [],
   "source": [
    "class Botzee(nn.Module):\n",
    "    def __init__(self, input_sizes, lstm_sizes, dice_output_size, score_output_size):\n",
    "        super(Botzee, self).__init__()\n",
    "        # branch 1 - binary dice pick 1\n",
    "        self.lstm1 = nn.LSTM(input_sizes[0], lstm_sizes[0])\n",
    "        self.branch1 = nn.Linear(lstm_sizes[0], dice_output_size)\n",
    "\n",
    "        # branch 2 - binary dice pick 2\n",
    "        self.lstm2 = nn.LSTM(input_sizes[1], lstm_sizes[1])\n",
    "        self.branch2 = nn.Linear(lstm_sizes[1], dice_output_size)\n",
    "\n",
    "        # branch 3 - multilabel score pick\n",
    "        self.lstm3 = nn.LSTM(input_sizes[2], lstm_sizes[2])\n",
    "        self.branch3 = nn.Linear(lstm_sizes[2], score_output_size)\n",
    "\n",
    "    def forward(self, x, masks):\n",
    "        # in case of 2D input, add a batch dimension\n",
    "        if x.dim() == 1:\n",
    "            x = x.unsqueeze(0)\n",
    "        \n",
    "        # branch 1 - binary\n",
    "        out1, _ = self.lstm1(x[:, masks[0]])\n",
    "        out1 = self.branch1(out1)\n",
    "        dice1_output = torch.sigmoid(out1)\n",
    "\n",
    "        # branch 2 - binary\n",
    "        out2, _ = self.lstm2(x[:, masks[1]])\n",
    "        out2 = self.branch2(out2)\n",
    "        dice2_output = torch.sigmoid(out2)\n",
    "\n",
    "        # branch 3 - multilabel\n",
    "        out3, _ = self.lstm3(x)\n",
    "        out3 = self.branch3(out3)\n",
    "        score_output = F.softmax(out3, dim = 1)\n",
    "\n",
    "        return dice1_output, dice2_output, score_output"
   ]
  },
  {
   "cell_type": "code",
   "execution_count": 10,
   "metadata": {},
   "outputs": [],
   "source": [
    "class BotzeeDataset(Dataset):\n",
    "    def __init__(self, features, targets_branch1, targets_branch2, targets_branch3):\n",
    "        self.features = features\n",
    "        self.targets_branch1 = targets_branch1\n",
    "        self.targets_branch2 = targets_branch2\n",
    "        self.targets_branch3 = targets_branch3\n",
    "\n",
    "    def __len__(self):\n",
    "        return len(self.features)\n",
    "\n",
    "    def __getitem__(self, idx):\n",
    "        # Convert to tensors\n",
    "        x = torch.tensor(self.features.iloc[idx, :].values, dtype=torch.float32)\n",
    "        y1 = torch.tensor(self.targets_branch1.iloc[idx, :].values, dtype=torch.float32)\n",
    "        y2 = torch.tensor(self.targets_branch2.iloc[idx, :].values, dtype=torch.float32)\n",
    "        y3 = torch.tensor(self.targets_branch3.iloc[idx, :].values, dtype = torch.float32)  # Assuming single value for branch 3\n",
    "        return x, (y1, y2, y3)"
   ]
  },
  {
   "cell_type": "code",
   "execution_count": 11,
   "metadata": {},
   "outputs": [],
   "source": [
    "# model params\n",
    "input_sizes = [\n",
    "    len([x for x in masks[0] if x == True]),\n",
    "    len([x for x in masks[1] if x == True]),\n",
    "    X.shape[1]\n",
    "]\n",
    "lstm_sizes = [32, 32, 32]\n",
    "\n",
    "# instantiate model\n",
    "model = Botzee(input_sizes = input_sizes, lstm_sizes = lstm_sizes, dice_output_size = 5, score_output_size = 13)\n",
    "if use_gpu:\n",
    "    model = model.to(gpu)\n",
    "\n",
    "# create the dataset and define DataLoader\n",
    "dataset = BotzeeDataset(X, y1, y2, y3)\n",
    "dataloader = DataLoader(dataset, batch_size = 13, shuffle = False)\n",
    "\n",
    "# choose optimizer and loss functions\n",
    "optimizer = torch.optim.Adam(model.parameters(), lr = 0.001)\n",
    "loss_fn1 = nn.BCELoss()  # Binary Cross Entropy for first two branches\n",
    "loss_fn2 = nn.CrossEntropyLoss()  # Cross Entropy for third branch\n",
    "\n",
    "# choose number of epochs\n",
    "n_epochs = 1"
   ]
  },
  {
   "cell_type": "code",
   "execution_count": 12,
   "metadata": {},
   "outputs": [],
   "source": [
    "start_time = time.perf_counter()\n",
    "\n",
    "for epoch in range(1,n_epochs+1):\n",
    "\n",
    "    for X_batch, Y_batch in dataloader:\n",
    "\n",
    "        # move to GPU\n",
    "        if use_gpu:\n",
    "            X_batch = X_batch.to(gpu)\n",
    "            Y_batch = [y.to(gpu) for y in Y_batch]\n",
    "\n",
    "        # Forward pass\n",
    "        out1, out2, out3 = model.forward(X_batch, masks)\n",
    "\n",
    "        # Calculate loss for each branch\n",
    "        loss1 = loss_fn1(out1, Y_batch[0])\n",
    "        loss2 = loss_fn1(out2, Y_batch[1])\n",
    "        loss3 = loss_fn2(out3, Y_batch[2])\n",
    "\n",
    "        # Total loss\n",
    "        total_loss = loss1 + loss2 + loss3\n",
    "\n",
    "        # Backward pass and optimize\n",
    "        optimizer.zero_grad()\n",
    "        total_loss.backward()\n",
    "        optimizer.step()\n",
    "\n",
    "    if epoch % 10 == 0:\n",
    "        elapsed_time = time.perf_counter() - start_time\n",
    "        print(f'Epoch [{epoch}] - Loss: {total_loss.item():.4f} - Time elapsed: {elapsed_time/60:.2f} min')"
   ]
  },
  {
   "cell_type": "code",
   "execution_count": 13,
   "metadata": {},
   "outputs": [
    {
     "name": "stdout",
     "output_type": "stream",
     "text": [
      "Picks after first roll: [0, 1, 1, 1, 0]\n",
      " Picks after second roll: [1, 1, 1, 1, 1]\n",
      " Score Pick: 12\n"
     ]
    }
   ],
   "source": [
    "# create data for prediction\n",
    "y_pred = X_batch[0:5,:].clone().detach()\n",
    "# y_pred = y_pred.unsqueeze(0)\n",
    "if use_gpu:\n",
    "    y_pred.to(gpu)\n",
    "\n",
    "# switch model to eval mode\n",
    "model.eval()\n",
    "\n",
    "# make predictions\n",
    "with torch.no_grad():\n",
    "    predictions = model(y_pred, masks)\n",
    "\n",
    "dice_picks_1 = []\n",
    "for pick in predictions[0][0]:\n",
    "    if pick >= 0.5:\n",
    "        dice_picks_1.append(1)\n",
    "    else:\n",
    "        dice_picks_1.append(0)\n",
    "\n",
    "dice_picks_2 = []\n",
    "for pick in predictions[1][0]:\n",
    "    if pick >= 0.5:\n",
    "        dice_picks_2.append(1)\n",
    "    else:\n",
    "        dice_picks_2.append(0)\n",
    "\n",
    "score_pick = predictions[2][0].argmax()\n",
    "\n",
    "print(\n",
    "    f'Picks after first roll: {dice_picks_1}\\n',\n",
    "    f'Picks after second roll: {dice_picks_2}\\n',\n",
    "    f'Score Pick: {score_pick}'\n",
    ")"
   ]
  },
  {
   "cell_type": "code",
   "execution_count": 14,
   "metadata": {},
   "outputs": [],
   "source": [
    "def model_pick_dice(hand, model, round, inputs, masks):\n",
    "    model = model.eval()\n",
    "    with torch.no_grad():\n",
    "        predictions = model(inputs, masks)\n",
    "    dice_picks = []\n",
    "    for pick in predictions[round-1][0]:\n",
    "        if pick >= 0.5:\n",
    "            dice_picks.append(1)\n",
    "        else:\n",
    "            dice_picks.append(0)\n",
    "    return dice_picks"
   ]
  },
  {
   "cell_type": "code",
   "execution_count": 15,
   "metadata": {},
   "outputs": [],
   "source": [
    "def model_pick_score(potential_scores, model, inputs, masks):\n",
    "    model = model.eval()\n",
    "    with torch.no_grad():\n",
    "        predictions = model(inputs, masks)\n",
    "    score_pick = predictions[2][0].argmax()\n",
    "    return score_pick"
   ]
  },
  {
   "cell_type": "code",
   "execution_count": 16,
   "metadata": {},
   "outputs": [
    {
     "name": "stdout",
     "output_type": "stream",
     "text": [
      "[6 4 2 1 1]\n",
      "[0, 1, 1, 1, 0] [4 2 1]\n"
     ]
    }
   ],
   "source": [
    "inputs = X_batch[0,:].clone().detach()\n",
    "\n",
    "hand = np.sort(np.random.randint(1, 7, 5))[::-1]\n",
    "print(hand)\n",
    "\n",
    "dice_picks, keepers = pick_dice(hand, model_pick_dice, model = model, round = 1, inputs = inputs, masks = masks)\n",
    "\n",
    "print(dice_picks, keepers)"
   ]
  },
  {
   "cell_type": "code",
   "execution_count": 44,
   "metadata": {},
   "outputs": [],
   "source": [
    "# def play_botzee(game_number, model, masks):\n",
    "game_number = 1\n",
    "        \n",
    "game_number = game_number\n",
    "\n",
    "# to capture game data\n",
    "game_data = []\n",
    "\n",
    "# instantiate a new score sheet and game variables\n",
    "score_sheet = ScoreSheet()\n",
    "score_sheet.initialize_score_types()\n",
    "\n",
    "# 13 rounds per game\n",
    "for turn_number in range(1):\n",
    "\n",
    "    # instantiate a new game data object\n",
    "    remaining_score_types = [x[0] for x in score_sheet.scores.items() if x[1] == None]\n",
    "    turn = TurnData(game_number, turn_number, score_sheet.total)\n",
    "    for score in score_sheet.get_current_scores().items():\n",
    "        turn.__dict__.update([score])\n",
    "\n",
    "    # first roll\n",
    "    hand = np.sort(np.random.randint(1, 7, 5))[::-1]\n",
    "    for idx, die in enumerate(hand):\n",
    "        turn.__dict__.update([(f'hand_1_dice_{idx+1}', die)])\n",
    "\n",
    "    # prep data for model\n",
    "    # inputs.update(score_sheet.get_current_scores())\n",
    "\n",
    "\n",
    "    # # choose dice to keep\n",
    "    # turn.dice_picks_1, hand_1_keepers = pick_dice(turn.hand_1, dice_decision_function)\n",
    "\n",
    "    # # second roll\n",
    "    # roll = np.random.randint(1, 7, 5 - len(hand_1_keepers))\n",
    "    # turn.hand_2 = np.sort(np.append(hand_1_keepers, roll))[::-1]\n",
    "\n",
    "    # # choose dice to keep\n",
    "    # turn.dice_picks_2, hand_2_keepers = pick_dice(turn.hand_2, dice_decision_function)\n",
    "\n",
    "    # # third roll\n",
    "    # roll = np.random.randint(1, 7, 5 - len(hand_2_keepers))\n",
    "    # turn.hand_3 = np.sort(np.append(hand_2_keepers, roll))[::-1]\n",
    "\n",
    "    # # loop through all remaining scores, check which are eligible and calculate potential score\n",
    "    # potential_scores = {}\n",
    "    # for score_type, score in zip(score_sheet.score_types, score_sheet.scores.items()):\n",
    "    #     if score_type.check_condition(turn.hand_3) and score[1] == None:\n",
    "    #         value = score_type.calculate_score(turn.hand_3)\n",
    "    #     elif score[1] != None:\n",
    "    #         value = -1\n",
    "    #     else:\n",
    "    #         value = 0\n",
    "    #     potential_scores[score_type.name] = value\n",
    "\n",
    "    # # choose score type\n",
    "    # turn.chosen_score_type, turn.turn_score = pick_score(potential_scores, score_decision_function)\n",
    "\n",
    "    # # mark score\n",
    "    # score_sheet.mark_score(turn.chosen_score_type, turn.turn_score)\n",
    "    # turn.post_total_score = score_sheet.total\n",
    "\n",
    "    # # capture data\n",
    "    # turn_data = turn.capture_data()\n",
    "\n",
    "    # remaining_score_types = dict(zip(\n",
    "    #     [f'{x}_score' for x in score_sheet.scores.keys()],\n",
    "    #     score_sheet.scores.values()\n",
    "    # ))\n",
    "    # turn_data.update(remaining_score_types)\n",
    "\n",
    "    # for old_key in list(potential_scores.keys()):\n",
    "    #     potential_scores[f'{old_key}_potential'] = potential_scores.pop(old_key)\n",
    "    # turn_data.update(potential_scores)\n",
    "\n",
    "    # game_data.append(turn_data)\n",
    "\n",
    "# return game_data"
   ]
  },
  {
   "cell_type": "code",
   "execution_count": 45,
   "metadata": {},
   "outputs": [
    {
     "data": {
      "text/plain": [
       "{'game': 1,\n",
       " 'turn': 0,\n",
       " 'pre_total_score': 0,\n",
       " 'chance_score': -1,\n",
       " 'ones_score': -1,\n",
       " 'twos_score': -1,\n",
       " 'threes_score': -1,\n",
       " 'fours_score': -1,\n",
       " 'fives_score': -1,\n",
       " 'sixes_score': -1,\n",
       " 'three_kind_score': -1,\n",
       " 'four_kind_score': -1,\n",
       " 'full_house_score': -1,\n",
       " 'small_straight_score': -1,\n",
       " 'large_straight_score': -1,\n",
       " 'yahtzee_score': -1,\n",
       " 'hand_1_dice_1': 6,\n",
       " 'hand_1_dice_2': 3,\n",
       " 'hand_1_dice_3': 1,\n",
       " 'hand_1_dice_4': 1,\n",
       " 'hand_1_dice_5': 1}"
      ]
     },
     "execution_count": 45,
     "metadata": {},
     "output_type": "execute_result"
    }
   ],
   "source": [
    "turn.capture_data()"
   ]
  },
  {
   "cell_type": "code",
   "execution_count": 40,
   "metadata": {},
   "outputs": [],
   "source": [
    "dict_.update([pair])"
   ]
  },
  {
   "cell_type": "code",
   "execution_count": 41,
   "metadata": {},
   "outputs": [
    {
     "data": {
      "text/plain": [
       "{'chance_score': -1,\n",
       " 'ones_score': -1,\n",
       " 'twos_score': -1,\n",
       " 'threes_score': -1,\n",
       " 'fours_score': -1,\n",
       " 'fives_score': -1,\n",
       " 'sixes_score': -1,\n",
       " 'three_kind_score': -1,\n",
       " 'four_kind_score': -1,\n",
       " 'full_house_score': -1,\n",
       " 'small_straight_score': -1,\n",
       " 'large_straight_score': -1,\n",
       " 'yahtzee_score': -1,\n",
       " 'hand_1_dice_0': 6}"
      ]
     },
     "execution_count": 41,
     "metadata": {},
     "output_type": "execute_result"
    }
   ],
   "source": [
    "dict_"
   ]
  },
  {
   "cell_type": "code",
   "execution_count": 18,
   "metadata": {},
   "outputs": [
    {
     "data": {
      "text/plain": [
       "Index(['game', 'turn', 'pre_total_score', 'chance_score', 'ones_score',\n",
       "       'twos_score', 'threes_score', 'fours_score', 'fives_score',\n",
       "       'sixes_score', 'three_kind_score', 'four_kind_score',\n",
       "       'full_house_score', 'small_straight_score', 'large_straight_score',\n",
       "       'yahtzee_score', 'hand_1_dice_1', 'hand_1_dice_2', 'hand_1_dice_3',\n",
       "       'hand_1_dice_4', 'hand_1_dice_5', 'picks_1_dice_1', 'picks_1_dice_2',\n",
       "       'picks_1_dice_3', 'picks_1_dice_4', 'picks_1_dice_5', 'hand_2_dice_1',\n",
       "       'hand_2_dice_2', 'hand_2_dice_3', 'hand_2_dice_4', 'hand_2_dice_5',\n",
       "       'picks_2_dice_1', 'picks_2_dice_2', 'picks_2_dice_3', 'picks_2_dice_4',\n",
       "       'picks_2_dice_5', 'hand_3_dice_1', 'hand_3_dice_2', 'hand_3_dice_3',\n",
       "       'hand_3_dice_4', 'hand_3_dice_5', 'chance_potential', 'ones_potential',\n",
       "       'twos_potential', 'threes_potential', 'fours_potential',\n",
       "       'fives_potential', 'sixes_potential', 'three_kind_potential',\n",
       "       'four_kind_potential', 'full_house_potential',\n",
       "       'small_straight_potential', 'large_straight_potential',\n",
       "       'yahtzee_potential'],\n",
       "      dtype='object')"
      ]
     },
     "execution_count": 18,
     "metadata": {},
     "output_type": "execute_result"
    }
   ],
   "source": [
    "X.columns"
   ]
  },
  {
   "cell_type": "code",
   "execution_count": 19,
   "metadata": {},
   "outputs": [
    {
     "data": {
      "text/plain": [
       "game                         1.0\n",
       "turn                         4.0\n",
       "pre_total_score             67.0\n",
       "chance_score                23.0\n",
       "ones_score                  -1.0\n",
       "twos_score                  -1.0\n",
       "threes_score                 6.0\n",
       "fours_score                 -1.0\n",
       "fives_score                 -1.0\n",
       "sixes_score                 -1.0\n",
       "three_kind_score            19.0\n",
       "four_kind_score             -1.0\n",
       "full_house_score            25.0\n",
       "small_straight_score        -1.0\n",
       "large_straight_score        -1.0\n",
       "yahtzee_score               -1.0\n",
       "hand_1_dice_1                6.0\n",
       "hand_1_dice_2                5.0\n",
       "hand_1_dice_3                3.0\n",
       "hand_1_dice_4                3.0\n",
       "hand_1_dice_5                2.0\n",
       "picks_1_dice_1               0.0\n",
       "picks_1_dice_2               0.0\n",
       "picks_1_dice_3               1.0\n",
       "picks_1_dice_4               1.0\n",
       "picks_1_dice_5               0.0\n",
       "hand_2_dice_1                6.0\n",
       "hand_2_dice_2                3.0\n",
       "hand_2_dice_3                3.0\n",
       "hand_2_dice_4                2.0\n",
       "hand_2_dice_5                1.0\n",
       "picks_2_dice_1               0.0\n",
       "picks_2_dice_2               1.0\n",
       "picks_2_dice_3               1.0\n",
       "picks_2_dice_4               0.0\n",
       "picks_2_dice_5               0.0\n",
       "hand_3_dice_1                3.0\n",
       "hand_3_dice_2                3.0\n",
       "hand_3_dice_3                2.0\n",
       "hand_3_dice_4                2.0\n",
       "hand_3_dice_5                1.0\n",
       "chance_potential            -1.0\n",
       "ones_potential               1.0\n",
       "twos_potential               4.0\n",
       "threes_potential             6.0\n",
       "fours_potential              0.0\n",
       "fives_potential              0.0\n",
       "sixes_potential              0.0\n",
       "three_kind_potential        -1.0\n",
       "four_kind_potential          0.0\n",
       "full_house_potential        -1.0\n",
       "small_straight_potential     0.0\n",
       "large_straight_potential     0.0\n",
       "yahtzee_potential            0.0\n",
       "Name: 3, dtype: float64"
      ]
     },
     "execution_count": 19,
     "metadata": {},
     "output_type": "execute_result"
    }
   ],
   "source": [
    "X.iloc[3,:]"
   ]
  }
 ],
 "metadata": {
  "kernelspec": {
   "display_name": "yahtz",
   "language": "python",
   "name": "python3"
  },
  "language_info": {
   "codemirror_mode": {
    "name": "ipython",
    "version": 3
   },
   "file_extension": ".py",
   "mimetype": "text/x-python",
   "name": "python",
   "nbconvert_exporter": "python",
   "pygments_lexer": "ipython3",
   "version": "3.10.13"
  }
 },
 "nbformat": 4,
 "nbformat_minor": 2
}
