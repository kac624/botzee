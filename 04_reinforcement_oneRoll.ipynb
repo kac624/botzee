{
 "cells": [
  {
   "cell_type": "code",
   "execution_count": 2,
   "metadata": {},
   "outputs": [],
   "source": [
    "# basics\n",
    "import pandas as pd\n",
    "import numpy as np\n",
    "import matplotlib.pyplot as plt\n",
    "import time\n",
    "import pickle\n",
    "\n",
    "# multiprocessing\n",
    "import torch.multiprocessing as mp\n",
    "from functools import partial\n",
    "\n",
    "# torch\n",
    "import torch\n",
    "import torch.nn as nn\n",
    "import torch.nn.functional as F\n",
    "# from torch.utils.data import Dataset, DataLoader\n",
    "import torch_directml\n",
    "\n",
    "# custom\n",
    "from scripts.classes import Botzee\n",
    "from scripts.functions import play_botzee, model_pick_dice, model_pick_score, reinforce_by_turn"
   ]
  },
  {
   "cell_type": "code",
   "execution_count": null,
   "metadata": {},
   "outputs": [],
   "source": [
    "with open('models/botzee_base_args.pkl', 'rb') as f:\n",
    "    botzee_base_args = pickle.load(f)\n",
    "\n",
    "botzee = Botzee(\n",
    "    input_sizes = botzee_base_args['input_sizes'],\n",
    "    lstm_sizes = botzee_base_args['lstm_sizes'], \n",
    "    dice_output_size = botzee_base_args['dice_output_size'], \n",
    "    score_output_size = botzee_base_args['score_output_size'], \n",
    "    masks = botzee_base_args['masks']\n",
    ")"
   ]
  },
  {
   "cell_type": "code",
   "execution_count": 1,
   "metadata": {},
   "outputs": [],
   "source": [
    "import gymnasium as gym"
   ]
  },
  {
   "cell_type": "code",
   "execution_count": 3,
   "metadata": {},
   "outputs": [],
   "source": [
    "class YahtzeeEnv(gym.Env):\n",
    "    metadata = {'render.modes': ['human']}\n",
    "\n",
    "    def __init__(self):\n",
    "        super(YahtzeeEnv, self).__init__()\n",
    "\n",
    "        # Define action and observation space\n",
    "        # They must be gym.spaces objects\n",
    "        # Example: 5 dice, each can be 1-6\n",
    "        self.observation_space = gym.spaces.MultiDiscrete([6] * 5)\n",
    "\n",
    "        # Example action space: choose dice to re-roll (binary choice for each dice)\n",
    "        self.action_space = gym.spaces.MultiBinary(5)\n",
    "\n",
    "        # Initialize state\n",
    "        self.state = None\n",
    "\n",
    "    def step(self, action):\n",
    "        # Execute one time step within the environment\n",
    "        self._take_action(action)\n",
    "\n",
    "        done = False # Define your termination condition here\n",
    "        reward = self._get_reward() # Define your reward calculation here\n",
    "\n",
    "        # Optionally we can pass additional info, we don't use that for now\n",
    "        info = {}\n",
    "\n",
    "        return self.state, reward, done, info\n",
    "\n",
    "    def reset(self):\n",
    "        # Reset the state of the environment to an initial state\n",
    "        self.state = self.observation_space.sample()\n",
    "        return self.state\n",
    "\n",
    "    def render(self, mode='human', close=False):\n",
    "        # Render the environment to the screen\n",
    "        print(f\"Current state: {self.state}\")\n",
    "\n",
    "    def _take_action(self, action):\n",
    "        # Implement logic to change state based on action\n",
    "        # Example: Re-roll selected dice\n",
    "        for i in range(len(action)):\n",
    "            if action[i] == 1:\n",
    "                self.state[i] = np.random.choice([1, 2, 3, 4, 5, 6])\n",
    "\n",
    "    def _get_reward(self):\n",
    "        # Implement your reward calculation\n",
    "        # Example: simple reward for demonstration\n",
    "        return np.sum(self.state)"
   ]
  },
  {
   "cell_type": "code",
   "execution_count": null,
   "metadata": {},
   "outputs": [],
   "source": [
    "class BotzeeRoll(nn.Module):\n",
    "    def __init__(self, input_dim, hidden_dim, output_dim):\n",
    "        super(BotzeeRoll, self).__init__()\n",
    "        # Define the neural network layers\n",
    "        self.fc1 = nn.Linear(input_dim, hidden_dim)\n",
    "        self.relu = nn.ReLU()\n",
    "        self.fc2 = nn.Linear(hidden_dim, output_dim)\n",
    "\n",
    "    def forward(self, x):\n",
    "        # Forward pass through the network\n",
    "        x = self.relu(self.fc1(x))\n",
    "        x = self.fc2(x)\n",
    "        return x"
   ]
  },
  {
   "cell_type": "code",
   "execution_count": 4,
   "metadata": {},
   "outputs": [],
   "source": [
    "env = YahtzeeEnv()"
   ]
  },
  {
   "cell_type": "code",
   "execution_count": 6,
   "metadata": {},
   "outputs": [
    {
     "name": "stdout",
     "output_type": "stream",
     "text": [
      "Initial Observation: [3 4 5 5 5]\n"
     ]
    }
   ],
   "source": [
    "# Example of interacting with the environment\n",
    "obs = env.reset()\n",
    "print(\"Initial Observation:\", obs)"
   ]
  },
  {
   "cell_type": "code",
   "execution_count": 10,
   "metadata": {},
   "outputs": [
    {
     "name": "stdout",
     "output_type": "stream",
     "text": [
      "Current state: [3 5 1 4 3]\n"
     ]
    }
   ],
   "source": [
    "env.render()"
   ]
  },
  {
   "cell_type": "code",
   "execution_count": 9,
   "metadata": {},
   "outputs": [
    {
     "name": "stdout",
     "output_type": "stream",
     "text": [
      "Observation: [4 2 6 4 2]\n",
      "Reward: 18\n",
      "Done: False\n",
      "Info: {}\n",
      "\n",
      "\n",
      "Observation: [5 2 6 4 2]\n",
      "Reward: 19\n",
      "Done: False\n",
      "Info: {}\n",
      "\n",
      "\n",
      "Observation: [5 2 6 4 5]\n",
      "Reward: 22\n",
      "Done: False\n",
      "Info: {}\n",
      "\n",
      "\n",
      "Observation: [3 6 5 1 3]\n",
      "Reward: 18\n",
      "Done: False\n",
      "Info: {}\n",
      "\n",
      "\n",
      "Observation: [3 6 5 1 3]\n",
      "Reward: 18\n",
      "Done: False\n",
      "Info: {}\n",
      "\n",
      "\n",
      "Observation: [3 6 3 1 2]\n",
      "Reward: 15\n",
      "Done: False\n",
      "Info: {}\n",
      "\n",
      "\n",
      "Observation: [3 2 6 1 6]\n",
      "Reward: 18\n",
      "Done: False\n",
      "Info: {}\n",
      "\n",
      "\n",
      "Observation: [3 5 6 1 4]\n",
      "Reward: 19\n",
      "Done: False\n",
      "Info: {}\n",
      "\n",
      "\n",
      "Observation: [3 5 6 3 4]\n",
      "Reward: 21\n",
      "Done: False\n",
      "Info: {}\n",
      "\n",
      "\n",
      "Observation: [3 5 1 4 3]\n",
      "Reward: 16\n",
      "Done: False\n",
      "Info: {}\n",
      "\n",
      "\n"
     ]
    }
   ],
   "source": [
    "for _ in range(10):\n",
    "    action = env.action_space.sample() # Random action\n",
    "    obs, reward, done, info = env.step(action)\n",
    "    print(\n",
    "        f'Observation: {obs}'\n",
    "        f'\\nReward: {reward}'\n",
    "        f'\\nDone: {done}'\n",
    "        f'\\nInfo: {info}\\n\\n'\n",
    "    )\n",
    "\n",
    "    if done:\n",
    "        break"
   ]
  }
 ],
 "metadata": {
  "kernelspec": {
   "display_name": "botzee",
   "language": "python",
   "name": "python3"
  },
  "language_info": {
   "codemirror_mode": {
    "name": "ipython",
    "version": 3
   },
   "file_extension": ".py",
   "mimetype": "text/x-python",
   "name": "python",
   "nbconvert_exporter": "python",
   "pygments_lexer": "ipython3",
   "version": "3.10.13"
  }
 },
 "nbformat": 4,
 "nbformat_minor": 2
}
