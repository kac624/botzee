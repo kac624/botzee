{
 "cells": [
  {
   "cell_type": "code",
   "execution_count": 2,
   "metadata": {},
   "outputs": [],
   "source": [
    "import pandas as pd\n",
    "import numpy as np"
   ]
  },
  {
   "cell_type": "code",
   "execution_count": 157,
   "metadata": {},
   "outputs": [],
   "source": [
    "class ScoreType:\n",
    "    def __init__(self, name, condition_function, scoring_function, number = None):\n",
    "        self.name = name\n",
    "        self.condition_function = condition_function\n",
    "        self.scoring_function = scoring_function\n",
    "        self.number = number\n",
    "\n",
    "    def check_condition(self, hand, number = None):\n",
    "        return self.condition_function(hand, number = self.number)\n",
    "    \n",
    "    def calculate_score(self, hand, number = None):\n",
    "        return self.scoring_function(hand, number)"
   ]
  },
  {
   "cell_type": "code",
   "execution_count": 181,
   "metadata": {},
   "outputs": [],
   "source": [
    "def condition_tops(hand, number):\n",
    "    return number in hand\n",
    "\n",
    "def score_tops(hand, number):\n",
    "    return list(hand).count(number) * number\n",
    "\n",
    "ones = ScoreType(\n",
    "    name = 'Twos',\n",
    "    condition_function = condition_tops,\n",
    "    scoring_function = score_tops,\n",
    "    number = 1\n",
    ")\n",
    "\n",
    "twos = ScoreType(\n",
    "    name = 'Twos',\n",
    "    condition_function = condition_tops,\n",
    "    scoring_function = score_tops,\n",
    "    number = 2\n",
    ")\n",
    "\n",
    "threes = ScoreType(\n",
    "    name = 'Twos',\n",
    "    condition_function = condition_tops,\n",
    "    scoring_function = score_tops,\n",
    "    number = 3\n",
    ")\n",
    "\n",
    "fours = ScoreType(\n",
    "    name = 'Twos',\n",
    "    condition_function = condition_tops,\n",
    "    scoring_function = score_tops,\n",
    "    number = 4\n",
    ")\n",
    "\n",
    "fives = ScoreType(\n",
    "    name = 'Twos',\n",
    "    condition_function = condition_tops,\n",
    "    scoring_function = score_tops,\n",
    "    number = 5\n",
    ")\n",
    "\n",
    "sixes = ScoreType(\n",
    "    name = 'Twos',\n",
    "    condition_function = lambda hand, number: number in hand, # condition_tops,\n",
    "    scoring_function = lambda hand, number: list(hand).count(number) * number, # score_tops,\n",
    "    number = 6\n",
    ")\n",
    "\n",
    "def condition_three_kind(hand, number):\n",
    "    unique_counts = np.unique(hand, return_counts = True)[1].max()\n",
    "    return True if unique_counts.max() >= 3 else False\n",
    "\n",
    "def score_three_kind(hand, number):\n",
    "    return hand.sum()\n",
    "\n",
    "three_kind = ScoreType(\n",
    "    name = 'Three of a Kind',\n",
    "    condition_function = condition_three_kind,\n",
    "    scoring_function = score_three_kind\n",
    ")\n",
    "\n",
    "def condition_four_kind(hand, number):\n",
    "    unique_counts = np.unique(hand, return_counts = True)[1].max()\n",
    "    return True if unique_counts.max() >= 4 else False\n",
    "\n",
    "def score_four_kind(hand, number):\n",
    "    return hand.sum()\n",
    "\n",
    "four_kind = ScoreType(\n",
    "    name = 'Four of a Kind',\n",
    "    condition_function = condition_four_kind,\n",
    "    scoring_function = score_four_kind\n",
    ")"
   ]
  },
  {
   "cell_type": "code",
   "execution_count": 171,
   "metadata": {},
   "outputs": [
    {
     "data": {
      "text/plain": [
       "18"
      ]
     },
     "execution_count": 171,
     "metadata": {},
     "output_type": "execute_result"
    }
   ],
   "source": [
    "three_kind.calculate_score(hand, three_kind.number)"
   ]
  },
  {
   "cell_type": "code",
   "execution_count": 182,
   "metadata": {},
   "outputs": [],
   "source": [
    "score_types = [\n",
    "    ones,\n",
    "    twos,\n",
    "    threes,\n",
    "    fours,\n",
    "    fives,\n",
    "    sixes,\n",
    "    three_kind,\n",
    "    four_kind,\n",
    "    # full_house,\n",
    "    # small_straight,\n",
    "    # large_straight,\n",
    "    # yahtzee,\n",
    "    # chance\n",
    "]"
   ]
  },
  {
   "cell_type": "code",
   "execution_count": 193,
   "metadata": {},
   "outputs": [
    {
     "name": "stdout",
     "output_type": "stream",
     "text": [
      "[3 5 3]\n",
      "[3]\n",
      "[3 6 5 2 2]\n",
      "6\n",
      "[2]\n",
      "[4 6 2 6]\n",
      "[4 6 2 6 5]\n",
      "12\n",
      "[6 1 6 1]\n",
      "[6]\n",
      "[6 4 1 6 1]\n",
      "12\n",
      "[5 5 4 4]\n",
      "[4 4 4 5]\n",
      "[4 4 4 5 4]\n",
      "21\n",
      "[4]\n",
      "[4]\n",
      "[4 1 6 5 6]\n",
      "12\n",
      "[1]\n",
      "[6 1 1 5]\n",
      "[6 1 1 5 2]\n",
      "6\n",
      "[2 5 6 2]\n",
      "[3 3 2]\n",
      "[3 3 2 6 4]\n",
      "6\n"
     ]
    }
   ],
   "source": [
    "for round in range(7):\n",
    "\n",
    "    hand = np.array([], dtype = int)\n",
    "\n",
    "    for turn in range(3):\n",
    "\n",
    "        roll = np.random.randint(1, 7, 5 - len(hand))\n",
    "        hand = np.append(hand, roll)\n",
    "\n",
    "        if turn < 2:\n",
    "            hand = np.random.choice(\n",
    "                a = hand,\n",
    "                size = np.random.randint(1,5)\n",
    "            )\n",
    "\n",
    "        print(hand)\n",
    "\n",
    "    remaining_scores = score_types\n",
    "    have_score = False\n",
    "    counter = 0\n",
    "\n",
    "    while have_score == False:\n",
    "        if counter == len(remaining_scores):\n",
    "            score = 0\n",
    "            break\n",
    "        score_type = score_types[len(remaining_scores)-counter-1]\n",
    "        if score_type.check_condition(hand, score_type.number):\n",
    "            score = score_type.calculate_score(hand, score_type.number)\n",
    "            have_score = True\n",
    "        else:\n",
    "            counter += 1\n",
    "\n",
    "    print(score)"
   ]
  }
 ],
 "metadata": {
  "kernelspec": {
   "display_name": "yahtz",
   "language": "python",
   "name": "python3"
  },
  "language_info": {
   "codemirror_mode": {
    "name": "ipython",
    "version": 3
   },
   "file_extension": ".py",
   "mimetype": "text/x-python",
   "name": "python",
   "nbconvert_exporter": "python",
   "pygments_lexer": "ipython3",
   "version": "3.9.13"
  }
 },
 "nbformat": 4,
 "nbformat_minor": 2
}
